{
  "nbformat": 4,
  "nbformat_minor": 0,
  "metadata": {
    "colab": {
      "name": "hoyahacks 2021",
      "provenance": [],
      "collapsed_sections": []
    },
    "kernelspec": {
      "name": "python3",
      "display_name": "Python 3"
    }
  },
  "cells": [
    {
      "cell_type": "code",
      "metadata": {
        "colab": {
          "base_uri": "https://localhost:8080/"
        },
        "id": "YE2bqDXrQotd",
        "outputId": "9989381d-f411-4f96-f36f-22291ac99bfe"
      },
      "source": [
        "!pip install nltk\r\n"
      ],
      "execution_count": 1,
      "outputs": [
        {
          "output_type": "stream",
          "text": [
            "Requirement already satisfied: nltk in /usr/local/lib/python3.6/dist-packages (3.2.5)\n",
            "Requirement already satisfied: six in /usr/local/lib/python3.6/dist-packages (from nltk) (1.15.0)\n"
          ],
          "name": "stdout"
        }
      ]
    },
    {
      "cell_type": "code",
      "metadata": {
        "id": "6mmY9OcIVR14"
      },
      "source": [
        "import nltk\r\n",
        "import sqlite3\r\n",
        "import pandas as pd\r\n",
        "import csv"
      ],
      "execution_count": 5,
      "outputs": []
    },
    {
      "cell_type": "code",
      "metadata": {
        "colab": {
          "base_uri": "https://localhost:8080/",
          "height": 424
        },
        "id": "yl2SbWj5VU2U",
        "outputId": "e4de161c-45c6-4500-9cf0-fe941639dde0"
      },
      "source": [
        "conn = sqlite3.connect(\"tweets_data.db\")\r\n",
        "cur = conn.cursor()\r\n",
        "table_name = \"nov_01\"\r\n",
        "cur.execute(\"DROP TABLE IF EXISTS \" + table_name)\r\n",
        "cur.execute(\"CREATE TABLE \" + table_name +  \" (retweeted_id INTEGER, user_id INTEGER);\")\r\n",
        "\r\n",
        "nov_01 = pd.read_csv(\"/content/drive/MyDrive/HoyaHacks 2021/2020-11-01.csv\")\r\n",
        "nov_01.to_sql(\"nov_01\", conn, if_exists='append', index=False)\r\n",
        "\r\n",
        "pd.read_sql('''SELECT * FROM nov_01 ORDER BY ROWID ASC LIMIT 10''', conn)\r\n",
        "cur.execute(\"SELECT retweeted_id, COUNT(user_id) FROM nov_01 GROUP BY retweeted_id\")\r\n",
        "pd.read_sql('''SELECT retweeted_id, COUNT(user_id) FROM nov_01 GROUP BY retweeted_id ORDER BY COUNT(user_id) DESC LIMIT 100''', conn)\r\n"
      ],
      "execution_count": 36,
      "outputs": [
        {
          "output_type": "execute_result",
          "data": {
            "text/html": [
              "<div>\n",
              "<style scoped>\n",
              "    .dataframe tbody tr th:only-of-type {\n",
              "        vertical-align: middle;\n",
              "    }\n",
              "\n",
              "    .dataframe tbody tr th {\n",
              "        vertical-align: top;\n",
              "    }\n",
              "\n",
              "    .dataframe thead th {\n",
              "        text-align: right;\n",
              "    }\n",
              "</style>\n",
              "<table border=\"1\" class=\"dataframe\">\n",
              "  <thead>\n",
              "    <tr style=\"text-align: right;\">\n",
              "      <th></th>\n",
              "      <th>retweeted_id</th>\n",
              "      <th>COUNT(user_id)</th>\n",
              "    </tr>\n",
              "  </thead>\n",
              "  <tbody>\n",
              "    <tr>\n",
              "      <th>0</th>\n",
              "      <td>1322654727390158850</td>\n",
              "      <td>2477</td>\n",
              "    </tr>\n",
              "    <tr>\n",
              "      <th>1</th>\n",
              "      <td>1322949336687386624</td>\n",
              "      <td>2253</td>\n",
              "    </tr>\n",
              "    <tr>\n",
              "      <th>2</th>\n",
              "      <td>1322903253932191744</td>\n",
              "      <td>2114</td>\n",
              "    </tr>\n",
              "    <tr>\n",
              "      <th>3</th>\n",
              "      <td>1322639351659012099</td>\n",
              "      <td>1716</td>\n",
              "    </tr>\n",
              "    <tr>\n",
              "      <th>4</th>\n",
              "      <td>1322701497633746944</td>\n",
              "      <td>1488</td>\n",
              "    </tr>\n",
              "    <tr>\n",
              "      <th>...</th>\n",
              "      <td>...</td>\n",
              "      <td>...</td>\n",
              "    </tr>\n",
              "    <tr>\n",
              "      <th>95</th>\n",
              "      <td>1322773331519614976</td>\n",
              "      <td>150</td>\n",
              "    </tr>\n",
              "    <tr>\n",
              "      <th>96</th>\n",
              "      <td>1323023924108627969</td>\n",
              "      <td>149</td>\n",
              "    </tr>\n",
              "    <tr>\n",
              "      <th>97</th>\n",
              "      <td>1322682122608529408</td>\n",
              "      <td>147</td>\n",
              "    </tr>\n",
              "    <tr>\n",
              "      <th>98</th>\n",
              "      <td>1322692332764995584</td>\n",
              "      <td>145</td>\n",
              "    </tr>\n",
              "    <tr>\n",
              "      <th>99</th>\n",
              "      <td>1322916847646244864</td>\n",
              "      <td>143</td>\n",
              "    </tr>\n",
              "  </tbody>\n",
              "</table>\n",
              "<p>100 rows × 2 columns</p>\n",
              "</div>"
            ],
            "text/plain": [
              "           retweeted_id  COUNT(user_id)\n",
              "0   1322654727390158850            2477\n",
              "1   1322949336687386624            2253\n",
              "2   1322903253932191744            2114\n",
              "3   1322639351659012099            1716\n",
              "4   1322701497633746944            1488\n",
              "..                  ...             ...\n",
              "95  1322773331519614976             150\n",
              "96  1323023924108627969             149\n",
              "97  1322682122608529408             147\n",
              "98  1322692332764995584             145\n",
              "99  1322916847646244864             143\n",
              "\n",
              "[100 rows x 2 columns]"
            ]
          },
          "metadata": {
            "tags": []
          },
          "execution_count": 36
        }
      ]
    },
    {
      "cell_type": "code",
      "metadata": {
        "id": "615DJtmacxQW"
      },
      "source": [
        "https://stackoverflow.com/questions/7887011/how-to-drop-a-table-if-it-exists\r\n",
        "https://stackoverflow.com/questions/1650946/mysql-create-table-if-not-exists-error-1050\r\n",
        "https://www.sqlitetutorial.net/sqlite-create-table/\r\n",
        "https://stackoverflow.com/questions/2887878/importing-a-csv-file-into-a-sqlite3-database-table-using-python\r\n",
        "https://www.sqlitetutorial.net/sqlite-python/creating-database/\r\n",
        "https://www.sqlitetutorial.net/sqlite-group-by/\r\n"
      ],
      "execution_count": null,
      "outputs": []
    }
  ]
}